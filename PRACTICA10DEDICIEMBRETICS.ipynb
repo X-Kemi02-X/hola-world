{
  "nbformat": 4,
  "nbformat_minor": 0,
  "metadata": {
    "colab": {
      "provenance": [],
      "authorship_tag": "ABX9TyP4ip1xCmVVHMlk9oRZMCIr",
      "include_colab_link": true
    },
    "kernelspec": {
      "name": "python3",
      "display_name": "Python 3"
    },
    "language_info": {
      "name": "python"
    }
  },
  "cells": [
    {
      "cell_type": "markdown",
      "metadata": {
        "id": "view-in-github",
        "colab_type": "text"
      },
      "source": [
        "<a href=\"https://colab.research.google.com/github/X-Kemi02-X/hola-world/blob/main/PRACTICA10DEDICIEMBRETICS.ipynb\" target=\"_parent\"><img src=\"https://colab.research.google.com/assets/colab-badge.svg\" alt=\"Open In Colab\"/></a>"
      ]
    },
    {
      "cell_type": "markdown",
      "source": [
        "***CODIGO: JSON***\n",
        "- El json es un formato de intercambio de datos que se utiliza en Python para: Representar estructuras de datos complejas, Compartir datos de forma sencilla y fácil de leer, Intercambiar información entre aplicaciones.  \n",
        "- Estructura básica:\n",
        "Un JSON puede contener:\n",
        "\n",
        "•\t**Agrupaciones de pares clave-valor, encerrados entre llaves { }.**\n",
        "\n",
        "•\t**Listas de elementos, encerrados entre corchetes [ ].**\n",
        "\n",
        "•\t**Cadenas de texto, números, booleanos, nulos, objetos y arreglos.**"
      ],
      "metadata": {
        "id": "BEElNT9B3SRN"
      }
    },
    {
      "cell_type": "code",
      "execution_count": 1,
      "metadata": {
        "colab": {
          "base_uri": "https://localhost:8080/"
        },
        "id": "hEKKMo1C3RQU",
        "outputId": "e4b64bbc-0f74-4251-9180-db0ccfad734b"
      },
      "outputs": [
        {
          "output_type": "stream",
          "name": "stdout",
          "text": [
            "Dell\n",
            "16GB\n"
          ]
        }
      ],
      "source": [
        "# bloque de codigo, aca copian el codigo de su programa y lo ejecutan\n",
        "\n",
        "computadora = {\n",
        "  \"marca\": \"Dell\",\n",
        "  \"modelo\": \"Inspiron 15\",\n",
        "  \"procesador\": \"Intel i7\",\n",
        "  \"ram\": \"16GB\",\n",
        "  \"almacenamiento\": \"512GB SSD\"\n",
        "}\n",
        "\n",
        "print(computadora[\"marca\"])\n",
        "print(computadora[\"ram\"])\n"
      ]
    },
    {
      "cell_type": "markdown",
      "source": [
        "TEMA: CALCULADORA\n",
        "- En este codigo de programa vemos la estructura en la cual se puede realizar una calculadora basica en python"
      ],
      "metadata": {
        "id": "9fw8kR7b5cnI"
      }
    },
    {
      "cell_type": "code",
      "source": [
        "\n",
        "print(\"Calculadora UTE\")\n",
        "print(\"1. Suma\\n2. Resta\\n3. Multiplicacion\\n4.Division\\n5.Residuo\")\n",
        "OPCION = input(\"Ingrese la operacion a realizar..\\n \")\n",
        "valor1 = int(input(\"Ingreese el primer valor: \\n\"))\n",
        "valor2 = int(input(\"Ingreese el segundo valor: \\n\"))\n",
        "\n",
        "resultado = 0\n",
        "operacion = \"ninguna\"\n",
        "if OPCION == \"1\":\n",
        "    resultado = valor1 + valor2\n",
        "    operacion = \"suma\"\n",
        "elif OPCION == \"2\":\n",
        "    resultado = valor1 - valor2\n",
        "    operacion = \"resta\"\n",
        "elif OPCION == \"3\":\n",
        "    resultado = valor1 * valor2\n",
        "    operacion = \"multiplicacion\"\n",
        "elif OPCION == \"4\":\n",
        "    resultado = valor1 / valor2\n",
        "    operacion = \"division\"\n",
        "elif OPCION == \"5\":\n",
        "    resultado = valor1 % valor2\n",
        "    operacion = \"residuo\"\n",
        "else:\n",
        "    resultado = \"No determinado\"\n",
        "    operacion = \"Indefinido\"\n",
        "\n",
        "print(f\"\\nLa {operacion} entre {valor1} y {valor2} es {resultado}\\n\")"
      ],
      "metadata": {
        "colab": {
          "base_uri": "https://localhost:8080/"
        },
        "id": "yKj7HJRn5ku3",
        "outputId": "9cf38a11-2059-49af-da28-7d64f2b0bcfe"
      },
      "execution_count": 2,
      "outputs": [
        {
          "output_type": "stream",
          "name": "stdout",
          "text": [
            "Calculadora UTE\n",
            "1. Suma\n",
            "2. Resta\n",
            "3. Multiplicacion\n",
            "4.Division\n",
            "5.Residuo\n",
            "Ingrese la operacion a realizar..\n",
            " 1\n",
            "Ingreese el primer valor: \n",
            "19\n",
            "Ingreese el segundo valor: \n",
            "20\n",
            "\n",
            "La suma entre 19 y 20 es 39\n",
            "\n"
          ]
        }
      ]
    }
  ]
}